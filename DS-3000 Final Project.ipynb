{
 "cells": [
  {
   "cell_type": "markdown",
   "metadata": {},
   "source": [
    "## Dropping Columns, Removing Null Values, and Filtering Target Values  "
   ]
  },
  {
   "cell_type": "code",
   "execution_count": 1,
   "metadata": {},
   "outputs": [
    {
     "name": "stderr",
     "output_type": "stream",
     "text": [
      "C:\\Users\\peter\\anaconda3\\lib\\site-packages\\IPython\\core\\interactiveshell.py:3146: DtypeWarning: Columns (34,36,38,44,46,59,61) have mixed types.Specify dtype option on import or set low_memory=False.\n",
      "  has_raised = await self.run_ast_nodes(code_ast.body, cell_name,\n"
     ]
    },
    {
     "name": "stdout",
     "output_type": "stream",
     "text": [
      "Percent Approved: 84.44%\n",
      "Percent Denied:   15.56%\n"
     ]
    }
   ],
   "source": [
    "import pandas as pd \n",
    "import numpy as np \n",
    "\n",
    "\n",
    "df = pd.read_csv(r'C:\\School\\Summer 1 2021\\DS 3000\\Final Project\\hmda_2017_ma_all-records_labels.csv')\n",
    "dropped_columns = ['as_of_year', 'respondent_id', 'agency_name', 'agency_abbr', 'agency_code',\n",
    "                  'loan_type', 'property_type', 'loan_purpose', 'owner_occupancy', 'preapproval_name',\n",
    "                  'preapproval', 'action_taken_name', 'msamd_name', 'msamd', 'state_name',\n",
    "                  'state_abbr', 'state_code', 'county_code', 'census_tract_number', 'applicant_ethnicity',\n",
    "                  'co_applicant_ethnicity', 'applicant_race_1', 'applicant_race_name_2', 'applicant_race_2',\n",
    "                   'applicant_race_name_3', 'applicant_race_3', 'applicant_race_name_4', 'applicant_race_4',\n",
    "                  'applicant_race_name_5', 'applicant_race_5', 'co_applicant_race_1', 'co_applicant_race_name_2',\n",
    "                  'co_applicant_race_2', 'co_applicant_race_name_3', 'co_applicant_race_3', 'co_applicant_race_name_4',\n",
    "                  'co_applicant_race_4', 'co_applicant_race_name_5', 'co_applicant_race_5', 'applicant_sex',\n",
    "                  'co_applicant_sex', 'purchaser_type', 'denial_reason_name_1', 'denial_reason_1', 'denial_reason_name_2',\n",
    "                  'denial_reason_2', 'denial_reason_name_3', 'denial_reason_3', 'rate_spread', 'hoepa_status',\n",
    "                  'lien_status', 'edit_status_name', 'edit_status', 'sequence_number', 'application_date_indicator',\n",
    "                  'purchaser_type_name', 'co_applicant_sex_name', 'co_applicant_race_name_1' ] \n",
    "\n",
    "\n",
    "df = df.drop(columns=dropped_columns)\n",
    "df = df.replace('Information not provided by applicant in mail, Internet, or telephone application', np.NaN)\n",
    "df = df.dropna()\n",
    "df = df.loc[(df['action_taken'] == 1) | (df['action_taken'] == 3)]\n",
    "\n",
    "features_count = df['action_taken'].value_counts()\n",
    "features_count\n",
    "approved = features_count[1] \n",
    "denied = features_count[3] \n",
    "percent_approved = round((approved / (denied + approved)) * 100, 2)\n",
    "percent_denied = round((denied / (denied + approved)) * 100, 2)\n",
    "print(f'Percent Approved: {percent_approved}%\\nPercent Denied:   {percent_denied}%')"
   ]
  },
  {
   "cell_type": "markdown",
   "metadata": {},
   "source": [
    "## Feature Engineering Using One-Hot Encoding "
   ]
  },
  {
   "cell_type": "code",
   "execution_count": 2,
   "metadata": {},
   "outputs": [],
   "source": [
    "from sklearn.preprocessing import OneHotEncoder\n",
    "\n",
    "\n",
    "features = df.drop(columns=['action_taken'])\n",
    "\n",
    "ohe_cols = ['loan_type_name', 'property_type_name', 'loan_purpose_name', 'owner_occupancy_name',\n",
    "           'county_name','applicant_ethnicity_name', 'co_applicant_ethnicity_name', 'applicant_race_name_1', \n",
    "           'applicant_sex_name', 'hoepa_status_name', 'lien_status_name']\n",
    "\n",
    "ohe_features = features[ohe_cols]\n",
    "not_ohe_features_df = features.drop(columns=ohe_features)\n",
    "\n",
    "encoder = OneHotEncoder(sparse = False)\n",
    "encoded_df = encoder.fit_transform(ohe_features)\n",
    "encoder.get_feature_names()\n",
    "features_df = pd.DataFrame(encoded_df, columns = encoder.get_feature_names())\n",
    "\n",
    "ohe_features = pd.concat([features_df.reset_index(drop=True), not_ohe_features_df.reset_index(drop=True)], axis=1)\n",
    "target = df['action_taken']"
   ]
  },
  {
   "cell_type": "markdown",
   "metadata": {},
   "source": [
    "## Feature Engineering Using SVM Iterative Feature Selection"
   ]
  },
  {
   "cell_type": "code",
   "execution_count": 3,
   "metadata": {},
   "outputs": [
    {
     "name": "stdout",
     "output_type": "stream",
     "text": [
      "0.9986770034549591\n",
      "0.7690674216952752\n",
      "0.998264093705233\n",
      "0.7631771873499001\n"
     ]
    }
   ],
   "source": [
    "from sklearn.feature_selection import RFE\n",
    "from sklearn.model_selection import train_test_split\n",
    "from sklearn.tree import DecisionTreeClassifier\n",
    "\n",
    "X_train, X_test, y_train, y_test = train_test_split(ohe_features, target, random_state=3000)\n",
    "\n",
    "select = RFE(DecisionTreeClassifier(), n_features_to_select = 10)\n",
    "select.fit(X_train, y_train)\n",
    "\n",
    "X_train_selected = select.transform(X_train)\n",
    "X_test_selected = select.transform(X_test)\n",
    "\n",
    "model = DecisionTreeClassifier().fit(X=X_train, y=y_train)\n",
    "\n",
    "print(model.score(X_train, y_train))\n",
    "print(model.score(X_test, y_test))\n",
    "\n",
    "model = DecisionTreeClassifier().fit(X=X_train_selected, y=y_train)\n",
    "print(model.score(X_train_selected, y_train))\n",
    "print(model.score(X_test_selected, y_test))"
   ]
  },
  {
   "cell_type": "code",
   "execution_count": 4,
   "metadata": {},
   "outputs": [
    {
     "data": {
      "text/plain": [
       "array([False, False, False, False, False, False, False,  True, False,\n",
       "       False, False, False, False, False, False, False, False, False,\n",
       "       False, False, False, False, False, False, False, False, False,\n",
       "       False, False, False, False, False, False, False, False, False,\n",
       "       False, False, False, False,  True, False, False, False, False,\n",
       "       False, False,  True,  True,  True,  True,  True,  True,  True,\n",
       "        True])"
      ]
     },
     "execution_count": 4,
     "metadata": {},
     "output_type": "execute_result"
    }
   ],
   "source": [
    "select.get_support()"
   ]
  },
  {
   "cell_type": "code",
   "execution_count": 5,
   "metadata": {},
   "outputs": [
    {
     "data": {
      "text/plain": [
       "Index(['loan_type_name', 'property_type_name', 'loan_purpose_name',\n",
       "       'owner_occupancy_name', 'loan_amount_000s', 'county_name',\n",
       "       'applicant_ethnicity_name', 'co_applicant_ethnicity_name',\n",
       "       'applicant_race_name_1', 'applicant_sex_name', 'applicant_income_000s',\n",
       "       'hoepa_status_name', 'lien_status_name', 'population',\n",
       "       'minority_population', 'hud_median_family_income',\n",
       "       'tract_to_msamd_income', 'number_of_owner_occupied_units',\n",
       "       'number_of_1_to_4_family_units'],\n",
       "      dtype='object')"
      ]
     },
     "execution_count": 5,
     "metadata": {},
     "output_type": "execute_result"
    }
   ],
   "source": [
    "features.columns"
   ]
  }
 ],
 "metadata": {
  "kernelspec": {
   "display_name": "Python 3",
   "language": "python",
   "name": "python3"
  },
  "language_info": {
   "codemirror_mode": {
    "name": "ipython",
    "version": 3
   },
   "file_extension": ".py",
   "mimetype": "text/x-python",
   "name": "python",
   "nbconvert_exporter": "python",
   "pygments_lexer": "ipython3",
   "version": "3.8.5"
  }
 },
 "nbformat": 4,
 "nbformat_minor": 4
}
